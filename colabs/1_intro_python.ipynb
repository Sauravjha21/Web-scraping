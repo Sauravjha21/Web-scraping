{
  "nbformat": 4,
  "nbformat_minor": 0,
  "metadata": {
    "colab": {
      "provenance": []
    },
    "kernelspec": {
      "name": "python3",
      "display_name": "Python 3"
    },
    "language_info": {
      "name": "python"
    }
  },
  "cells": [
    {
      "cell_type": "markdown",
      "source": [
        "Basic data types"
      ],
      "metadata": {
        "id": "V6biNaABKkhq"
      }
    },
    {
      "cell_type": "code",
      "source": [
        "# Numbers\n",
        "num1 = 10\n",
        "num2 = 3.14\n",
        "\n",
        "# Strings\n",
        "string1 = \"Hello\"\n",
        "string2 = 'World'\n",
        "\n",
        "# Booleans\n",
        "bool1 = True\n",
        "bool2 = False\n"
      ],
      "metadata": {
        "id": "gl8kPfye2WHV"
      },
      "execution_count": null,
      "outputs": []
    },
    {
      "cell_type": "markdown",
      "source": [
        "Operations"
      ],
      "metadata": {
        "id": "hHfWrL3VK3e-"
      }
    },
    {
      "cell_type": "code",
      "source": [
        "# Arithmetic\n",
        "result1 = 10 + 5    # Addition\n",
        "result2 = 10 - 5    # Subtraction\n",
        "result3 = 10 * 5    # Multiplication\n",
        "result4 = 10 / 5    # Division\n",
        "result5 = 10 % 3    # Modulo (remainder of division)\n",
        "result6 = 10 ** 2   # Exponentiation\n",
        "\n",
        "# Logical\n",
        "result7 = True and False   # Logical AND\n",
        "result8 = True or False    # Logical OR\n",
        "result9 = not True         # Logical NOT\n"
      ],
      "metadata": {
        "id": "koYyoJ6_2V5n"
      },
      "execution_count": null,
      "outputs": []
    },
    {
      "cell_type": "markdown",
      "source": [
        "I/O"
      ],
      "metadata": {
        "id": "nx2OkUP3K9HH"
      }
    },
    {
      "cell_type": "code",
      "source": [
        "# Output\n",
        "print(\"Hello, World!\")\n",
        "\n",
        "# Input\n",
        "name = input(\"What is your name? \")\n",
        "print(\"Hello, \" + name + \"!\")\n"
      ],
      "metadata": {
        "id": "Ljn3xZI-2Vlp",
        "colab": {
          "base_uri": "https://localhost:8080/"
        },
        "outputId": "6055beff-5f50-492c-a4de-5240e73fdfdb"
      },
      "execution_count": null,
      "outputs": [
        {
          "output_type": "stream",
          "name": "stdout",
          "text": [
            "Hello, World!\n",
            "What is your name? pierre\n",
            "Hello, pierre!\n"
          ]
        }
      ]
    },
    {
      "cell_type": "markdown",
      "source": [
        "Conditional operators"
      ],
      "metadata": {
        "id": "2QCN0ftiLBqy"
      }
    },
    {
      "cell_type": "code",
      "source": [
        "age = 20\n",
        "if age >= 18:\n",
        "    print(\"You are an adult.\")\n",
        "else:\n",
        "    print(\"You are not yet an adult.\")\n",
        "\n",
        "# Elif statement\n",
        "grade = 85\n",
        "if grade >= 90:\n",
        "    print(\"You got an A.\")\n",
        "elif grade >= 80:\n",
        "    print(\"You got a B.\")\n",
        "else:\n",
        "    print(\"You got a C or lower.\")\n"
      ],
      "metadata": {
        "id": "3V-9Km4O2URA",
        "colab": {
          "base_uri": "https://localhost:8080/"
        },
        "outputId": "fc04e8f5-b8d0-4e9b-ebd7-2e20d68fae92"
      },
      "execution_count": null,
      "outputs": [
        {
          "output_type": "stream",
          "name": "stdout",
          "text": [
            "You are an adult.\n",
            "You got a B.\n"
          ]
        }
      ]
    },
    {
      "cell_type": "markdown",
      "source": [
        "Lists (mutable) and tuples (immutable)"
      ],
      "metadata": {
        "id": "d9YqF9hjLFiy"
      }
    },
    {
      "cell_type": "code",
      "source": [
        "# Creating a list\n",
        "fruits = [\"apple\", \"banana\", \"cherry\"]\n",
        "\n",
        "# Indexing and Slicing\n",
        "print(fruits[0])       # Output: \"apple\"\n",
        "print(fruits[1:3])     # Output: [\"banana\", \"cherry\"]\n",
        "\n",
        "# Modifying a list\n",
        "fruits.append(\"orange\")\n",
        "fruits[1] = \"pear\"\n",
        "print(fruits)\n",
        "\n",
        "# Creating a tuple\n",
        "person = (\"John\", 25, True)\n",
        "print(person[0])       # Output: \"John\"\n"
      ],
      "metadata": {
        "id": "W_-fuKnS2F10",
        "colab": {
          "base_uri": "https://localhost:8080/"
        },
        "outputId": "0682789d-fde5-4a58-c3f7-108c0f9f73b0"
      },
      "execution_count": null,
      "outputs": [
        {
          "output_type": "stream",
          "name": "stdout",
          "text": [
            "apple\n",
            "['banana', 'cherry']\n",
            "['apple', 'pear', 'cherry', 'orange']\n",
            "John\n"
          ]
        }
      ]
    },
    {
      "cell_type": "markdown",
      "source": [
        "Dictionary"
      ],
      "metadata": {
        "id": "nKz7qn82LejP"
      }
    },
    {
      "cell_type": "code",
      "source": [
        "# Creating a dictionary\n",
        "person = {\"name\": \"John\", \"age\": 25, \"is_student\": False}\n",
        "\n",
        "# Accessing values\n",
        "print(person[\"name\"])          # Output: \"John\"\n",
        "\n",
        "# Modifying values\n",
        "person[\"age\"] = 30\n",
        "person[\"height\"] = 180\n",
        "person[\"hobby\"] = \"soccer\"\n",
        "\n",
        "print(person)"
      ],
      "metadata": {
        "id": "-XYOXoShKU_t",
        "colab": {
          "base_uri": "https://localhost:8080/"
        },
        "outputId": "360099c6-4f07-40a3-a292-72d8ab273541"
      },
      "execution_count": null,
      "outputs": [
        {
          "output_type": "stream",
          "name": "stdout",
          "text": [
            "John\n",
            "{'name': 'John', 'age': 30, 'is_student': False, 'height': 180, 'hobby': 'soccer'}\n"
          ]
        }
      ]
    },
    {
      "cell_type": "markdown",
      "source": [
        "Sets"
      ],
      "metadata": {
        "id": "oaWKDrYKLiS4"
      }
    },
    {
      "cell_type": "code",
      "source": [
        "# Creating a set\n",
        "fruits = {\"apple\", \"banana\", \"cherry\"}\n",
        "\n",
        "# Adding and removing elements\n",
        "fruits.add(\"orange\")\n",
        "fruits.remove(\"banana\")\n",
        "fruits.add(\"orange\")\n",
        "\n",
        "print(fruits)\n"
      ],
      "metadata": {
        "id": "YzaiF8IMKUpG",
        "colab": {
          "base_uri": "https://localhost:8080/"
        },
        "outputId": "f955823b-0db0-4b66-8a30-95694320fb6c"
      },
      "execution_count": null,
      "outputs": [
        {
          "output_type": "stream",
          "name": "stdout",
          "text": [
            "{'apple', 'orange', 'cherry'}\n"
          ]
        }
      ]
    },
    {
      "cell_type": "markdown",
      "source": [
        "Loops"
      ],
      "metadata": {
        "id": "B4oH_SdhLk0M"
      }
    },
    {
      "cell_type": "code",
      "source": [
        "# While loop\n",
        "count = 0\n",
        "while count < 5:\n",
        "    print(\"Count is:\", count)\n",
        "    count += 1\n",
        "\n",
        "# For loop\n",
        "fruits = [\"apple\", \"banana\", \"cherry\"]\n",
        "for fruit in fruits:\n",
        "    print(fruit)\n",
        "\n",
        "cars = [\"kaja\", \"maria\", \"luis\", \"pierre\"]\n",
        "for i, car in enumerate(cars):\n",
        "  print(f\"This is the car of {car}\")\n",
        "  print(f\"Price is {i * 1000}\")\n",
        "  "
      ],
      "metadata": {
        "id": "4rGiSLYvKUFE",
        "colab": {
          "base_uri": "https://localhost:8080/"
        },
        "outputId": "ec29f7cf-1ba6-420b-a636-d3afd4de285c"
      },
      "execution_count": null,
      "outputs": [
        {
          "output_type": "stream",
          "name": "stdout",
          "text": [
            "Count is: 0\n",
            "Count is: 1\n",
            "Count is: 2\n",
            "Count is: 3\n",
            "Count is: 4\n",
            "apple\n",
            "banana\n",
            "cherry\n",
            "This is the car of kaja\n",
            "Price is 0\n",
            "This is the car of maria\n",
            "Price is 1000\n",
            "This is the car of luis\n",
            "Price is 2000\n",
            "This is the car of pierre\n",
            "Price is 3000\n"
          ]
        }
      ]
    },
    {
      "cell_type": "markdown",
      "source": [
        "Functions"
      ],
      "metadata": {
        "id": "ldN6MgsiLm28"
      }
    },
    {
      "cell_type": "code",
      "source": [
        "# Defining a function\n",
        "def greet(name):\n",
        "    print(\"Hello, \" + name + \"!\")\n",
        "\n",
        "# Calling a function\n",
        "greet(\"John\")\n",
        "\n",
        "# Function with parameters and return value\n",
        "def add_numbers(num1, num2):\n",
        "    print(num1 + num2)\n",
        "    return num1 + num2\n",
        "\n",
        "result = add_numbers(10, 5)\n",
        "print(result)\n"
      ],
      "metadata": {
        "id": "jeGs_GodKTq1",
        "colab": {
          "base_uri": "https://localhost:8080/"
        },
        "outputId": "10601200-22e8-4b17-f3dd-f62905eacf98"
      },
      "execution_count": null,
      "outputs": [
        {
          "output_type": "stream",
          "name": "stdout",
          "text": [
            "Hello, John!\n",
            "15\n",
            "15\n"
          ]
        }
      ]
    },
    {
      "cell_type": "markdown",
      "source": [
        "Files"
      ],
      "metadata": {
        "id": "9tSFT2GOLrk0"
      }
    },
    {
      "cell_type": "code",
      "source": [
        "filename = \"myfile-example.txt\"\n",
        "\n",
        "# Writing to file\n",
        "names = [\"bob\", \"alice\", \"eve\"]\n",
        "with open(filename, 'w') as fout:\n",
        "  for name in names:\n",
        "    fout.write(f\"Hello {name}!\\n\")\n",
        "\n",
        "# Reading whole content at once\n",
        "with open(filename, \"r\") as fin:\n",
        "  content = fin.read()\n",
        "print(content)\n",
        "\n",
        "with open(filename, \"r\") as fin:\n",
        "  for l in fin:\n",
        "    print(l)"
      ],
      "metadata": {
        "colab": {
          "base_uri": "https://localhost:8080/"
        },
        "id": "mbTmt16YLto8",
        "outputId": "0e7659ad-e269-4994-e47f-98552a9191cf"
      },
      "execution_count": null,
      "outputs": [
        {
          "output_type": "stream",
          "name": "stdout",
          "text": [
            "Hello bob!\n",
            "Hello alice!\n",
            "Hello eve!\n",
            "\n",
            "Hello bob!\n",
            "\n",
            "Hello alice!\n",
            "\n",
            "Hello eve!\n",
            "\n"
          ]
        }
      ]
    },
    {
      "cell_type": "markdown",
      "source": [
        "Packages"
      ],
      "metadata": {
        "id": "SH8dzzL0LpQg"
      }
    },
    {
      "cell_type": "code",
      "execution_count": null,
      "metadata": {
        "id": "wlo1zGEP0UDv"
      },
      "outputs": [],
      "source": []
    },
    {
      "cell_type": "code",
      "source": [
        "!pip install bs4 requests"
      ],
      "metadata": {
        "colab": {
          "base_uri": "https://localhost:8080/"
        },
        "id": "MlkF4RLA1ocW",
        "outputId": "c32ff9b7-66cd-4dc5-b0ea-665881b28831"
      },
      "execution_count": null,
      "outputs": [
        {
          "output_type": "stream",
          "name": "stdout",
          "text": [
            "Looking in indexes: https://pypi.org/simple, https://us-python.pkg.dev/colab-wheels/public/simple/\n",
            "Collecting bs4\n",
            "  Downloading bs4-0.0.1.tar.gz (1.1 kB)\n",
            "  Preparing metadata (setup.py) ... \u001b[?25l\u001b[?25hdone\n",
            "Requirement already satisfied: requests in /usr/local/lib/python3.9/dist-packages (2.27.1)\n",
            "Requirement already satisfied: beautifulsoup4 in /usr/local/lib/python3.9/dist-packages (from bs4) (4.11.2)\n",
            "Requirement already satisfied: charset-normalizer~=2.0.0 in /usr/local/lib/python3.9/dist-packages (from requests) (2.0.12)\n",
            "Requirement already satisfied: certifi>=2017.4.17 in /usr/local/lib/python3.9/dist-packages (from requests) (2022.12.7)\n",
            "Requirement already satisfied: idna<4,>=2.5 in /usr/local/lib/python3.9/dist-packages (from requests) (3.4)\n",
            "Requirement already satisfied: urllib3<1.27,>=1.21.1 in /usr/local/lib/python3.9/dist-packages (from requests) (1.26.15)\n",
            "Requirement already satisfied: soupsieve>1.2 in /usr/local/lib/python3.9/dist-packages (from beautifulsoup4->bs4) (2.4)\n",
            "Building wheels for collected packages: bs4\n",
            "  Building wheel for bs4 (setup.py) ... \u001b[?25l\u001b[?25hdone\n",
            "  Created wheel for bs4: filename=bs4-0.0.1-py3-none-any.whl size=1270 sha256=856dee31d28c7b95b4d7d411cce3c552111ea0c6566540794dc7d988f0216e75\n",
            "  Stored in directory: /root/.cache/pip/wheels/73/2b/cb/099980278a0c9a3e57ff1a89875ec07bfa0b6fcbebb9a8cad3\n",
            "Successfully built bs4\n",
            "Installing collected packages: bs4\n",
            "Successfully installed bs4-0.0.1\n"
          ]
        }
      ]
    },
    {
      "cell_type": "code",
      "source": [
        "import requests as re\n",
        "from bs4 import BeautifulSoup"
      ],
      "metadata": {
        "id": "4ikbC53C2XRM"
      },
      "execution_count": null,
      "outputs": []
    },
    {
      "cell_type": "code",
      "source": [],
      "metadata": {
        "id": "ZCxYpzvt2XGN"
      },
      "execution_count": null,
      "outputs": []
    },
    {
      "cell_type": "code",
      "source": [],
      "metadata": {
        "id": "gBUIjzSw2W5U"
      },
      "execution_count": null,
      "outputs": []
    },
    {
      "cell_type": "code",
      "source": [],
      "metadata": {
        "id": "uxMpKkHS2WsH"
      },
      "execution_count": null,
      "outputs": []
    },
    {
      "cell_type": "code",
      "source": [],
      "metadata": {
        "id": "eoKh0PEs1n8O"
      },
      "execution_count": null,
      "outputs": []
    },
    {
      "cell_type": "code",
      "source": [],
      "metadata": {
        "id": "iMKydtc53Rpy"
      },
      "execution_count": null,
      "outputs": []
    },
    {
      "cell_type": "markdown",
      "source": [
        "Beautiful Soup for Python and HTML"
      ],
      "metadata": {
        "id": "Z8KzxBwj3SC_"
      }
    },
    {
      "cell_type": "code",
      "source": [
        "import requests as re\n",
        "from bs4 import BeautifulSoup"
      ],
      "metadata": {
        "id": "k5b5l8Jj3Yp3"
      },
      "execution_count": null,
      "outputs": []
    },
    {
      "cell_type": "code",
      "source": [],
      "metadata": {
        "id": "fNzpV9fy3ZWA"
      },
      "execution_count": null,
      "outputs": []
    },
    {
      "cell_type": "code",
      "source": [],
      "metadata": {
        "id": "rK_SFNqH3ZkG"
      },
      "execution_count": null,
      "outputs": []
    },
    {
      "cell_type": "code",
      "source": [],
      "metadata": {
        "id": "zY0DF8lv3ZtH"
      },
      "execution_count": null,
      "outputs": []
    }
  ]
}